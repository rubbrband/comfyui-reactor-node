{
  "cells": [
    {
      "cell_type": "code",
      "execution_count": null,
      "metadata": {},
      "outputs": [],
      "source": [
        "# populate env variable os.environ.get(\"REACTOR_MODELS_DIR\") to current directory\n",
        "import os\n",
        "os.environ[\"REACTOR_MODELS_DIR\"] = '.'\n",
        "os.environ['REACTOR_FACERESTORE_MODELS_PATH'] = '.'\n",
        "\n",
        "\n",
        "from nodes import reactor\n",
        "from nodes import RestoreFace\n",
        "\n"
      ]
    },
    {
      "cell_type": "code",
      "execution_count": null,
      "metadata": {},
      "outputs": [],
      "source": [
        "reactorobj = reactor()\n",
        "from PIL import Image\n",
        "input_image = Image.open(\"/Users/abhinavg/Downloads/ComfyUI_00204_.png\").convert(\"RGB\")\n",
        "source_image = Image.open(\"/Users/abhinavg/Downloads/Gopal_Abhinav_594-PilotSF-1428.jpg\").convert(\"RGB\")\n",
        "import torchvision.transforms as transforms \n",
        "transform = transforms.Compose([ \n",
        "    transforms.PILToTensor() \n",
        "]) \n",
        "  \n",
        "input_image = transform(input_image).unsqueeze(0)/255\n",
        "source_image = transform(source_image).unsqueeze(0)/255\n",
        "res=  reactorobj.execute(True, input_image, \"inswapper_128.onnx\", 0, \"no\", \"0\", \"0\", 1, \"codeformer.pth\", 1, 1, \"YOLOv5n\", source_image, None )\n",
        "\n",
        "import numpy as np\n",
        "from PIL import Image\n",
        "\n",
        "img_array = np.uint8(res[0].squeeze()*255)\n",
        "# change img_array to RGB from BGR\n",
        "Image.fromarray(img_array)"
      ]
    },
    {
      "cell_type": "code",
      "execution_count": null,
      "metadata": {},
      "outputs": [],
      "source": [
        "import numpy as np\n",
        "import cv2\n",
        "\n",
        "img_array = np.uint8(res[0].squeeze()*255)\n",
        "from PIL import Image\n",
        "image = Image.fromarray(img_array)"
      ]
    },
    {
      "cell_type": "code",
      "execution_count": null,
      "metadata": {},
      "outputs": [],
      "source": [
        "# takes in a path to an image that is the MiDas output\n",
        "\n",
        "import cv2\n",
        "import numpy as np\n",
        "midas_img_path = \"/Users/abhinavg/Downloads/temp.png\"\n",
        "\n",
        "from PIL import Image\n",
        "import numpy as np\n",
        "import torch\n",
        "def image_to_mask(image, channel):\n",
        "    channels = [\"red\", \"green\", \"blue\", \"alpha\"]\n",
        "    mask = image[:, :, :, channels.index(channel)]\n",
        "    return (mask,)\n",
        "\n",
        "def invert(mask):\n",
        "    out = 255 - mask\n",
        "    return (out,)\n",
        "\n",
        "def inpaint_preprocessor(image, mask):\n",
        "    # Resize the mask using cv2.resize\n",
        "    resized_mask = cv2.resize(mask, (image.shape[1], image.shape[0]), interpolation=cv2.INTER_LINEAR)\n",
        "    # Expand the mask to have three channels\n",
        "    expanded_mask = np.tile(resized_mask[..., np.newaxis], (1, 1, 3))/255.0\n",
        "\n",
        "    # Clone the image\n",
        "    image_clone = np.copy(image)\n",
        "\n",
        "    # Set masked pixels to -1.0\n",
        "    image_clone[expanded_mask > 0.5] = -1.0\n",
        "\n",
        "    return (image_clone,)\n",
        "\n",
        "# read in rgba image\n",
        "midas_image = cv2.imread(midas_img_path, cv2.IMREAD_UNCHANGED)\n",
        "midas_image_tensor = np.array(midas_image).reshape((1, midas_image.shape[0], midas_image.shape[1], midas_image.shape[2]))\n",
        "midas_mask = image_to_mask(midas_image_tensor, \"red\")\n",
        "midas_mask = np.squeeze(midas_mask)\n",
        "cv2.imwrite(\"midas_mask.png\", midas_mask)\n",
        "inverted_mask = invert(midas_mask)\n",
        "inverted_mask = np.squeeze(inverted_mask)\n",
        "cv2.imwrite(\"inverted_midas_mask.png\", inverted_mask)\n",
        "\n",
        "\n",
        "orig_img_path = \"/Users/abhinavg/Downloads/jerm.png\"\n",
        "orig_image = cv2.imread(orig_img_path)\n",
        "orig_image_expanded = np.array(orig_image).reshape((1, orig_image.shape[0], orig_image.shape[1], orig_image.shape[2]))\n",
        "\n",
        "inpaint_preprocessed = inpaint_preprocessor(orig_image, inverted_mask)\n",
        "cv2.imwrite(\"inpaint_preprocessed.png\", inpaint_preprocessed[0])"
      ]
    },
    {
      "cell_type": "code",
      "execution_count": null,
      "metadata": {},
      "outputs": [],
      "source": [
        "from diffusers import DiffusionPipeline\n",
        "import torch\n",
        "\n",
        "pipe_id = \"stabilityai/stable-diffusion-xl-base-1.0\"\n",
        "pipe = DiffusionPipeline.from_pretrained(pipe_id).to(\"cpu\")"
      ]
    },
    {
      "cell_type": "code",
      "execution_count": null,
      "metadata": {},
      "outputs": [],
      "source": [
        "pipe.load_lora_weights(\"CiroN2022/toy-face\", weight_name=\"toy_face_sdxl.safetensors\", adapter_name=\"toy\")"
      ]
    },
    {
      "cell_type": "code",
      "execution_count": null,
      "metadata": {},
      "outputs": [],
      "source": [
        "prompt = \"toy_face of a hacker with a hoodie\"\n",
        "\n",
        "lora_scale= 0.9\n",
        "image = pipe(\n",
        "    prompt, num_inference_steps=30, cross_attention_kwargs={\"scale\": lora_scale}, generator=torch.manual_seed(0)\n",
        ").images[0]\n",
        "image"
      ]
    },
    {
      "cell_type": "code",
      "execution_count": null,
      "metadata": {},
      "outputs": [],
      "source": []
    }
  ],
  "metadata": {
    "kernelspec": {
      "display_name": "kong",
      "language": "python",
      "name": "python3"
    },
    "language_info": {
      "codemirror_mode": {
        "name": "ipython",
        "version": 3
      },
      "file_extension": ".py",
      "mimetype": "text/x-python",
      "name": "python",
      "nbconvert_exporter": "python",
      "pygments_lexer": "ipython3",
      "version": "3.10.13"
    }
  },
  "nbformat": 4,
  "nbformat_minor": 2
}
